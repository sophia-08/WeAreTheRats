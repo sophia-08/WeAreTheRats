{
 "cells": [
  {
   "cell_type": "code",
   "execution_count": 1,
   "id": "6aabaf7a-b620-4398-ad21-529b876bfe57",
   "metadata": {},
   "outputs": [],
   "source": [
    "# Setup environment\n",
    "# !apt-get -qq install xxd\n",
    "# !pip3 install pandas numpy matplotlib\n",
    "# !pip3 install tensorflow==2.13.0\n"
   ]
  },
  {
   "cell_type": "code",
   "execution_count": 2,
   "id": "397c5c64-98b2-4f80-8352-094a57e24f06",
   "metadata": {},
   "outputs": [
    {
     "name": "stderr",
     "output_type": "stream",
     "text": [
      "2023-11-12 22:22:38.020227: I tensorflow/core/platform/cpu_feature_guard.cc:182] This TensorFlow binary is optimized to use available CPU instructions in performance-critical operations.\n",
      "To enable the following instructions: AVX2 FMA, in other operations, rebuild TensorFlow with the appropriate compiler flags.\n"
     ]
    },
    {
     "name": "stdout",
     "output_type": "stream",
     "text": [
      "TensorFlow version = 2.13.0\n",
      "\n",
      "total files 7911\n",
      "total  7911\n",
      "input shape:  (7911, 150, 9)  output shape (7911, 26)\n",
      "Data set parsing and preparation complete.\n"
     ]
    }
   ],
   "source": [
    "import matplotlib.pyplot as plt\n",
    "import numpy as np\n",
    "import pandas as pd\n",
    "import tensorflow as tf\n",
    "import glob\n",
    "import random\n",
    "\n",
    "file_path = \"processed_data/*\"\n",
    "\n",
    "print(f\"TensorFlow version = {tf.__version__}\\n\")\n",
    "\n",
    "# Set a fixed random seed value, for reproducibility, this will allow us to get\n",
    "# the same random numbers each time the notebook is run\n",
    "SEED = 1337\n",
    "np.random.seed(SEED)\n",
    "tf.random.set_seed(SEED)\n",
    "\n",
    "# the list of gestures that data is available for\n",
    "GESTURES = \"abcdefghijklmnopqrstuvwxyz\"\n",
    "\n",
    "SAMPLES_PER_GESTURE = 150\n",
    "\n",
    "NUM_GESTURES = 26\n",
    "\n",
    "# create a one-hot encoded matrix that is used in the output\n",
    "ONE_HOT_ENCODED_GESTURES = np.eye(NUM_GESTURES)\n",
    "\n",
    "inputs = []\n",
    "outputs = []\n",
    "\n",
    "datafiles = glob.glob(file_path)\n",
    "# datafiles.sort()\n",
    "print(\"total files\", len(datafiles))\n",
    "\n",
    "for datafile in datafiles:\n",
    "    out = []    \n",
    "\n",
    "    tensor = pd.read_csv(datafile)\n",
    "    # inputs.append(np.array(tensor.values.ravel()))\n",
    "    inputs.append(tensor)\n",
    "\n",
    "    gesture_index=0\n",
    "    for i in range(NUM_GESTURES):\n",
    "        if datafile[15] == GESTURES[i]:\n",
    "            gesture_index = i\n",
    "    output = ONE_HOT_ENCODED_GESTURES[gesture_index]\n",
    "    outputs.append(output)\n",
    "    # print (\"processed \", datafile, \"output=\", GESTURES[gesture_index])\n",
    "    \n",
    "print(\"total \", len(inputs))\n",
    "# convert the list to numpy arra\n",
    "inputs = np.array(inputs)\n",
    "outputs = np.array(outputs)\n",
    "\n",
    "print (\"input shape: \", inputs.shape, \" output shape\", outputs.shape)\n",
    "\n",
    "print(\"Data set parsing and preparation complete.\")"
   ]
  },
  {
   "cell_type": "code",
   "execution_count": 3,
   "id": "fcce447d-e1c5-4f03-a94c-dc90b16ca4b0",
   "metadata": {},
   "outputs": [
    {
     "name": "stdout",
     "output_type": "stream",
     "text": [
      "Data set randomization and splitting complete.\n"
     ]
    }
   ],
   "source": [
    "# Randomize the order of the inputs, so they can be evenly distributed for training, testing, and validation\n",
    "# https://stackoverflow.com/a/37710486/2020087\n",
    "num_inputs = len(inputs)\n",
    "randomize = np.arange(num_inputs)\n",
    "np.random.shuffle(randomize)\n",
    "\n",
    "# Swap the consecutive indexes (0, 1, 2, etc) with the randomized indexes\n",
    "inputs = inputs[randomize]\n",
    "outputs = outputs[randomize]\n",
    "\n",
    "# Split the recordings (group of samples) into three sets: training, testing and validation\n",
    "TRAIN_SPLIT = int(0.6 * num_inputs)\n",
    "TEST_SPLIT = int(0.2 * num_inputs + TRAIN_SPLIT)\n",
    "\n",
    "inputs_train, inputs_test, inputs_validate = np.split(inputs, [TRAIN_SPLIT, TEST_SPLIT])\n",
    "outputs_train, outputs_test, outputs_validate = np.split(outputs, [TRAIN_SPLIT, TEST_SPLIT])\n",
    "\n",
    "print(\"Data set randomization and splitting complete.\")"
   ]
  },
  {
   "cell_type": "code",
   "execution_count": 4,
   "id": "5b63a4fc-92ae-4f3d-904e-b7128216879b",
   "metadata": {},
   "outputs": [
    {
     "name": "stdout",
     "output_type": "stream",
     "text": [
      "Model: \"sequential\"\n",
      "_________________________________________________________________\n",
      " Layer (type)                Output Shape              Param #   \n",
      "=================================================================\n",
      " conv2d (Conv2D)             (None, 150, 9, 32)        160       \n",
      "                                                                 \n",
      " max_pooling2d (MaxPooling2  (None, 75, 4, 32)         0         \n",
      " D)                                                              \n",
      "                                                                 \n",
      " conv2d_1 (Conv2D)           (None, 75, 4, 20)         2580      \n",
      "                                                                 \n",
      " max_pooling2d_1 (MaxPoolin  (None, 37, 2, 20)         0         \n",
      " g2D)                                                            \n",
      "                                                                 \n",
      " dropout (Dropout)           (None, 37, 2, 20)         0         \n",
      "                                                                 \n",
      " flatten (Flatten)           (None, 1480)              0         \n",
      "                                                                 \n",
      " dense (Dense)               (None, 50)                74050     \n",
      "                                                                 \n",
      " dropout_1 (Dropout)         (None, 50)                0         \n",
      "                                                                 \n",
      " dense_1 (Dense)             (None, 100)               5100      \n",
      "                                                                 \n",
      " dense_2 (Dense)             (None, 26)                2626      \n",
      "                                                                 \n",
      "=================================================================\n",
      "Total params: 84516 (330.14 KB)\n",
      "Trainable params: 84516 (330.14 KB)\n",
      "Non-trainable params: 0 (0.00 Byte)\n",
      "_________________________________________________________________\n",
      "None\n"
     ]
    }
   ],
   "source": [
    "# # build the model and train it\n",
    "\n",
    "model = tf.keras.Sequential(\n",
    "    [\n",
    "    tf.keras.layers.Conv2D(32, (2,2), padding='same', strides=1, activation=\"relu\",input_shape=(SAMPLES_PER_GESTURE, 9, 1)),\n",
    "    tf.keras.layers.MaxPooling2D((2, 2), strides=(2,2)),\n",
    "\n",
    "    tf.keras.layers.Conv2D(20, (2,2), padding='same', activation=\"relu\"),\n",
    "    tf.keras.layers.MaxPooling2D((2, 2), strides=(2,2)),\n",
    "    tf.keras.layers.Dropout(0.1),\n",
    "\n",
    "    tf.keras.layers.Flatten(),\n",
    "    tf.keras.layers.Dense(50, activation=\"relu\"),\n",
    "    tf.keras.layers.Dropout(0.1),\n",
    "    tf.keras.layers.Dense(100, activation=\"relu\"),\n",
    "    tf.keras.layers.Dense(26, activation=\"softmax\")\n",
    "]\n",
    ")\n",
    "print(model.summary())\n"
   ]
  },
  {
   "cell_type": "code",
   "execution_count": 5,
   "id": "573aeaf8",
   "metadata": {},
   "outputs": [
    {
     "name": "stdout",
     "output_type": "stream",
     "text": [
      "Epoch 1/150\n",
      "4746/4746 [==============================] - 16s 3ms/step - loss: 0.0359 - mae: 0.0718 - val_loss: 0.0347 - val_mae: 0.0702\n",
      "Epoch 2/150\n",
      "4746/4746 [==============================] - 21s 4ms/step - loss: 0.0287 - mae: 0.0584 - val_loss: 0.0134 - val_mae: 0.0320\n",
      "Epoch 3/150\n",
      "4746/4746 [==============================] - 19s 4ms/step - loss: 0.0123 - mae: 0.0247 - val_loss: 0.0064 - val_mae: 0.0149\n",
      "Epoch 4/150\n",
      "4746/4746 [==============================] - 20s 4ms/step - loss: 0.0075 - mae: 0.0145 - val_loss: 0.0047 - val_mae: 0.0086\n",
      "Epoch 5/150\n",
      "4746/4746 [==============================] - 20s 4ms/step - loss: 0.0056 - mae: 0.0106 - val_loss: 0.0036 - val_mae: 0.0064\n",
      "Epoch 6/150\n",
      "4746/4746 [==============================] - 20s 4ms/step - loss: 0.0046 - mae: 0.0084 - val_loss: 0.0024 - val_mae: 0.0046\n",
      "Epoch 7/150\n",
      "4746/4746 [==============================] - 20s 4ms/step - loss: 0.0038 - mae: 0.0070 - val_loss: 0.0020 - val_mae: 0.0033\n",
      "Epoch 8/150\n",
      "4746/4746 [==============================] - 19s 4ms/step - loss: 0.0033 - mae: 0.0058 - val_loss: 0.0019 - val_mae: 0.0030\n",
      "Epoch 9/150\n",
      "4746/4746 [==============================] - 19s 4ms/step - loss: 0.0031 - mae: 0.0053 - val_loss: 0.0023 - val_mae: 0.0034\n",
      "Epoch 10/150\n",
      "4746/4746 [==============================] - 19s 4ms/step - loss: 0.0033 - mae: 0.0052 - val_loss: 0.0019 - val_mae: 0.0032\n",
      "Epoch 11/150\n",
      "4746/4746 [==============================] - 19s 4ms/step - loss: 0.0027 - mae: 0.0044 - val_loss: 0.0016 - val_mae: 0.0025\n",
      "Epoch 12/150\n",
      "4746/4746 [==============================] - 19s 4ms/step - loss: 0.0024 - mae: 0.0039 - val_loss: 0.0014 - val_mae: 0.0023\n",
      "Epoch 13/150\n",
      "4746/4746 [==============================] - 19s 4ms/step - loss: 0.0025 - mae: 0.0040 - val_loss: 0.0013 - val_mae: 0.0021\n",
      "Epoch 14/150\n",
      "4746/4746 [==============================] - 19s 4ms/step - loss: 0.0021 - mae: 0.0036 - val_loss: 0.0014 - val_mae: 0.0022\n",
      "Epoch 15/150\n",
      "4746/4746 [==============================] - 19s 4ms/step - loss: 0.0020 - mae: 0.0034 - val_loss: 0.0015 - val_mae: 0.0023\n",
      "Epoch 16/150\n",
      "4746/4746 [==============================] - 19s 4ms/step - loss: 0.0017 - mae: 0.0028 - val_loss: 0.0011 - val_mae: 0.0016\n",
      "Epoch 17/150\n",
      "4746/4746 [==============================] - 19s 4ms/step - loss: 0.0020 - mae: 0.0032 - val_loss: 0.0011 - val_mae: 0.0017\n",
      "Epoch 18/150\n",
      "4746/4746 [==============================] - 19s 4ms/step - loss: 0.0019 - mae: 0.0030 - val_loss: 0.0013 - val_mae: 0.0020\n",
      "Epoch 19/150\n",
      "4746/4746 [==============================] - 19s 4ms/step - loss: 0.0015 - mae: 0.0025 - val_loss: 0.0011 - val_mae: 0.0018\n",
      "Epoch 20/150\n",
      "4746/4746 [==============================] - 19s 4ms/step - loss: 0.0016 - mae: 0.0026 - val_loss: 0.0012 - val_mae: 0.0018\n",
      "Epoch 21/150\n",
      "4746/4746 [==============================] - 19s 4ms/step - loss: 0.0015 - mae: 0.0024 - val_loss: 0.0011 - val_mae: 0.0016\n",
      "Epoch 22/150\n",
      "4746/4746 [==============================] - 19s 4ms/step - loss: 0.0014 - mae: 0.0022 - val_loss: 0.0014 - val_mae: 0.0019\n",
      "Epoch 23/150\n",
      "4746/4746 [==============================] - 19s 4ms/step - loss: 0.0014 - mae: 0.0023 - val_loss: 8.3365e-04 - val_mae: 0.0013\n",
      "Epoch 24/150\n",
      "4746/4746 [==============================] - 19s 4ms/step - loss: 0.0013 - mae: 0.0022 - val_loss: 0.0014 - val_mae: 0.0020\n",
      "Epoch 25/150\n",
      "4746/4746 [==============================] - 19s 4ms/step - loss: 0.0013 - mae: 0.0021 - val_loss: 0.0012 - val_mae: 0.0015\n",
      "Epoch 26/150\n",
      "4746/4746 [==============================] - 19s 4ms/step - loss: 0.0011 - mae: 0.0018 - val_loss: 9.8996e-04 - val_mae: 0.0014\n",
      "Epoch 27/150\n",
      "4746/4746 [==============================] - 18s 4ms/step - loss: 0.0012 - mae: 0.0020 - val_loss: 0.0010 - val_mae: 0.0014\n",
      "Epoch 28/150\n",
      "4746/4746 [==============================] - 18s 4ms/step - loss: 0.0013 - mae: 0.0020 - val_loss: 8.9526e-04 - val_mae: 0.0012\n",
      "Epoch 29/150\n",
      "4746/4746 [==============================] - 18s 4ms/step - loss: 0.0014 - mae: 0.0020 - val_loss: 7.8459e-04 - val_mae: 0.0012\n",
      "Epoch 30/150\n",
      "4746/4746 [==============================] - 19s 4ms/step - loss: 0.0013 - mae: 0.0020 - val_loss: 8.0395e-04 - val_mae: 0.0012\n",
      "Epoch 31/150\n",
      "4746/4746 [==============================] - 19s 4ms/step - loss: 0.0012 - mae: 0.0019 - val_loss: 0.0011 - val_mae: 0.0015\n",
      "Epoch 32/150\n",
      "4746/4746 [==============================] - 19s 4ms/step - loss: 0.0011 - mae: 0.0017 - val_loss: 0.0011 - val_mae: 0.0014\n",
      "Epoch 33/150\n",
      "4746/4746 [==============================] - 19s 4ms/step - loss: 0.0011 - mae: 0.0018 - val_loss: 8.0727e-04 - val_mae: 0.0012\n",
      "Epoch 34/150\n",
      "4746/4746 [==============================] - 19s 4ms/step - loss: 0.0013 - mae: 0.0020 - val_loss: 0.0012 - val_mae: 0.0017\n",
      "Epoch 35/150\n",
      "4746/4746 [==============================] - 19s 4ms/step - loss: 0.0010 - mae: 0.0015 - val_loss: 8.7396e-04 - val_mae: 0.0012\n",
      "Epoch 36/150\n",
      "4746/4746 [==============================] - 19s 4ms/step - loss: 8.8209e-04 - mae: 0.0014 - val_loss: 0.0011 - val_mae: 0.0015\n",
      "Epoch 37/150\n",
      "4746/4746 [==============================] - 19s 4ms/step - loss: 0.0010 - mae: 0.0016 - val_loss: 0.0012 - val_mae: 0.0016\n",
      "Epoch 38/150\n",
      "4746/4746 [==============================] - 19s 4ms/step - loss: 0.0010 - mae: 0.0016 - val_loss: 7.5576e-04 - val_mae: 0.0010\n",
      "Epoch 39/150\n",
      "4746/4746 [==============================] - 19s 4ms/step - loss: 9.9040e-04 - mae: 0.0015 - val_loss: 7.8685e-04 - val_mae: 0.0011\n",
      "Epoch 40/150\n",
      "4746/4746 [==============================] - 26s 5ms/step - loss: 0.0010 - mae: 0.0015 - val_loss: 0.0011 - val_mae: 0.0016\n",
      "Epoch 41/150\n",
      "4746/4746 [==============================] - 24s 5ms/step - loss: 8.9297e-04 - mae: 0.0014 - val_loss: 7.7994e-04 - val_mae: 0.0010\n",
      "Epoch 42/150\n",
      "4746/4746 [==============================] - 14s 3ms/step - loss: 7.5032e-04 - mae: 0.0012 - val_loss: 9.6378e-04 - val_mae: 0.0013\n",
      "Epoch 43/150\n",
      "4746/4746 [==============================] - 280s 59ms/step - loss: 8.2456e-04 - mae: 0.0013 - val_loss: 7.3990e-04 - val_mae: 9.9956e-04\n",
      "Epoch 44/150\n",
      "4746/4746 [==============================] - 20s 4ms/step - loss: 9.6392e-04 - mae: 0.0015 - val_loss: 0.0010 - val_mae: 0.0014\n",
      "Epoch 45/150\n",
      "4746/4746 [==============================] - 15s 3ms/step - loss: 6.8251e-04 - mae: 0.0011 - val_loss: 6.4829e-04 - val_mae: 8.9315e-04\n",
      "Epoch 46/150\n",
      "4746/4746 [==============================] - 13s 3ms/step - loss: 8.5300e-04 - mae: 0.0013 - val_loss: 9.5007e-04 - val_mae: 0.0013\n",
      "Epoch 47/150\n",
      "4746/4746 [==============================] - 14s 3ms/step - loss: 6.7647e-04 - mae: 0.0011 - val_loss: 6.6534e-04 - val_mae: 9.8920e-04\n",
      "Epoch 48/150\n",
      "4746/4746 [==============================] - 13s 3ms/step - loss: 7.2194e-04 - mae: 0.0011 - val_loss: 6.1551e-04 - val_mae: 8.3130e-04\n",
      "Epoch 49/150\n",
      "4746/4746 [==============================] - 13s 3ms/step - loss: 9.6145e-04 - mae: 0.0014 - val_loss: 0.0010 - val_mae: 0.0013\n",
      "Epoch 50/150\n",
      "4746/4746 [==============================] - 13s 3ms/step - loss: 8.4435e-04 - mae: 0.0012 - val_loss: 7.2118e-04 - val_mae: 9.3178e-04\n",
      "Epoch 51/150\n",
      "4746/4746 [==============================] - 13s 3ms/step - loss: 7.4918e-04 - mae: 0.0011 - val_loss: 7.0040e-04 - val_mae: 9.0622e-04\n",
      "Epoch 52/150\n",
      "4746/4746 [==============================] - 13s 3ms/step - loss: 8.3521e-04 - mae: 0.0012 - val_loss: 8.7771e-04 - val_mae: 0.0011\n",
      "Epoch 53/150\n",
      "4746/4746 [==============================] - 13s 3ms/step - loss: 8.6695e-04 - mae: 0.0013 - val_loss: 7.8765e-04 - val_mae: 0.0011\n",
      "Epoch 54/150\n",
      "4746/4746 [==============================] - 12s 3ms/step - loss: 7.7943e-04 - mae: 0.0012 - val_loss: 8.2459e-04 - val_mae: 0.0011\n",
      "Epoch 55/150\n",
      "4746/4746 [==============================] - 14s 3ms/step - loss: 6.1107e-04 - mae: 9.4774e-04 - val_loss: 6.4094e-04 - val_mae: 8.2451e-04\n",
      "Epoch 56/150\n",
      "4746/4746 [==============================] - 12s 3ms/step - loss: 6.3568e-04 - mae: 8.9911e-04 - val_loss: 8.1535e-04 - val_mae: 0.0012\n",
      "Epoch 57/150\n",
      "4746/4746 [==============================] - 13s 3ms/step - loss: 6.8205e-04 - mae: 0.0010 - val_loss: 6.7863e-04 - val_mae: 9.2159e-04\n",
      "Epoch 58/150\n",
      "4746/4746 [==============================] - 13s 3ms/step - loss: 6.9487e-04 - mae: 0.0010 - val_loss: 7.6841e-04 - val_mae: 9.7605e-04\n",
      "Epoch 59/150\n",
      "4746/4746 [==============================] - 13s 3ms/step - loss: 7.6707e-04 - mae: 0.0011 - val_loss: 7.4908e-04 - val_mae: 9.9083e-04\n",
      "Epoch 60/150\n",
      "4746/4746 [==============================] - 12s 3ms/step - loss: 6.8982e-04 - mae: 0.0010 - val_loss: 6.2774e-04 - val_mae: 8.0289e-04\n",
      "Epoch 61/150\n",
      "4746/4746 [==============================] - 13s 3ms/step - loss: 8.3271e-04 - mae: 0.0012 - val_loss: 5.4477e-04 - val_mae: 8.0560e-04\n",
      "Epoch 62/150\n",
      "4746/4746 [==============================] - 12s 3ms/step - loss: 6.8331e-04 - mae: 9.9123e-04 - val_loss: 9.5656e-04 - val_mae: 0.0012\n",
      "Epoch 63/150\n",
      "4746/4746 [==============================] - 12s 3ms/step - loss: 6.9143e-04 - mae: 0.0011 - val_loss: 6.8854e-04 - val_mae: 9.3628e-04\n",
      "Epoch 64/150\n",
      "4746/4746 [==============================] - 12s 3ms/step - loss: 6.9307e-04 - mae: 0.0010 - val_loss: 6.1929e-04 - val_mae: 8.6025e-04\n",
      "Epoch 65/150\n",
      "4746/4746 [==============================] - 12s 3ms/step - loss: 6.1678e-04 - mae: 9.1768e-04 - val_loss: 6.0452e-04 - val_mae: 8.2738e-04\n",
      "Epoch 66/150\n",
      "4746/4746 [==============================] - 13s 3ms/step - loss: 6.8738e-04 - mae: 0.0010 - val_loss: 6.6058e-04 - val_mae: 8.7438e-04\n",
      "Epoch 67/150\n",
      "4746/4746 [==============================] - 13s 3ms/step - loss: 7.6739e-04 - mae: 0.0011 - val_loss: 6.2496e-04 - val_mae: 8.4756e-04\n",
      "Epoch 68/150\n",
      "4746/4746 [==============================] - 13s 3ms/step - loss: 6.6723e-04 - mae: 9.5587e-04 - val_loss: 6.5942e-04 - val_mae: 8.7091e-04\n",
      "Epoch 69/150\n",
      "4746/4746 [==============================] - 12s 3ms/step - loss: 6.3429e-04 - mae: 9.2538e-04 - val_loss: 6.3230e-04 - val_mae: 8.5134e-04\n",
      "Epoch 70/150\n",
      "4746/4746 [==============================] - 12s 3ms/step - loss: 4.7660e-04 - mae: 6.9331e-04 - val_loss: 7.0190e-04 - val_mae: 8.8158e-04\n",
      "Epoch 71/150\n",
      "4746/4746 [==============================] - 12s 3ms/step - loss: 6.2553e-04 - mae: 9.2139e-04 - val_loss: 8.4821e-04 - val_mae: 0.0011\n",
      "Epoch 72/150\n",
      "4746/4746 [==============================] - 12s 3ms/step - loss: 6.5950e-04 - mae: 9.2599e-04 - val_loss: 6.7855e-04 - val_mae: 9.4323e-04\n",
      "Epoch 73/150\n",
      "4746/4746 [==============================] - 13s 3ms/step - loss: 5.8073e-04 - mae: 8.3648e-04 - val_loss: 6.7537e-04 - val_mae: 8.6405e-04\n",
      "Epoch 74/150\n",
      "4746/4746 [==============================] - 12s 3ms/step - loss: 5.6802e-04 - mae: 8.4443e-04 - val_loss: 7.3187e-04 - val_mae: 9.0302e-04\n",
      "Epoch 75/150\n",
      "4746/4746 [==============================] - 13s 3ms/step - loss: 6.6939e-04 - mae: 9.4260e-04 - val_loss: 9.9161e-04 - val_mae: 0.0012\n",
      "Epoch 76/150\n",
      "4746/4746 [==============================] - 12s 3ms/step - loss: 5.9734e-04 - mae: 8.4051e-04 - val_loss: 8.6291e-04 - val_mae: 0.0011\n",
      "Epoch 77/150\n",
      "4746/4746 [==============================] - 12s 3ms/step - loss: 5.0236e-04 - mae: 7.2191e-04 - val_loss: 5.5565e-04 - val_mae: 7.0823e-04\n",
      "Epoch 78/150\n",
      "4746/4746 [==============================] - 12s 3ms/step - loss: 6.9851e-04 - mae: 9.5010e-04 - val_loss: 7.1639e-04 - val_mae: 8.3828e-04\n",
      "Epoch 79/150\n",
      "4746/4746 [==============================] - 12s 3ms/step - loss: 6.0353e-04 - mae: 8.5314e-04 - val_loss: 7.0938e-04 - val_mae: 8.8679e-04\n",
      "Epoch 80/150\n",
      "4746/4746 [==============================] - 14s 3ms/step - loss: 6.2265e-04 - mae: 8.5510e-04 - val_loss: 6.5433e-04 - val_mae: 7.9386e-04\n",
      "Epoch 81/150\n",
      "4746/4746 [==============================] - 15s 3ms/step - loss: 5.3242e-04 - mae: 7.3968e-04 - val_loss: 6.9708e-04 - val_mae: 9.1903e-04\n",
      "Epoch 82/150\n",
      "4746/4746 [==============================] - 15s 3ms/step - loss: 5.0055e-04 - mae: 7.9693e-04 - val_loss: 5.3913e-04 - val_mae: 7.5940e-04\n",
      "Epoch 83/150\n",
      "4746/4746 [==============================] - 14s 3ms/step - loss: 6.6830e-04 - mae: 9.0763e-04 - val_loss: 6.9671e-04 - val_mae: 8.6296e-04\n",
      "Epoch 84/150\n",
      "4746/4746 [==============================] - 14s 3ms/step - loss: 4.8659e-04 - mae: 7.2065e-04 - val_loss: 6.9191e-04 - val_mae: 9.5918e-04\n",
      "Epoch 85/150\n",
      "4746/4746 [==============================] - 14s 3ms/step - loss: 4.7973e-04 - mae: 7.2052e-04 - val_loss: 4.5644e-04 - val_mae: 6.7028e-04\n",
      "Epoch 86/150\n",
      "4746/4746 [==============================] - 14s 3ms/step - loss: 5.6367e-04 - mae: 8.2470e-04 - val_loss: 7.0612e-04 - val_mae: 9.5132e-04\n",
      "Epoch 87/150\n",
      "4746/4746 [==============================] - 14s 3ms/step - loss: 7.1962e-04 - mae: 9.3733e-04 - val_loss: 5.7080e-04 - val_mae: 7.2236e-04\n",
      "Epoch 88/150\n",
      "4746/4746 [==============================] - 14s 3ms/step - loss: 5.0852e-04 - mae: 6.9672e-04 - val_loss: 5.9455e-04 - val_mae: 7.7771e-04\n",
      "Epoch 89/150\n",
      "4746/4746 [==============================] - 14s 3ms/step - loss: 4.4888e-04 - mae: 6.7500e-04 - val_loss: 6.2242e-04 - val_mae: 9.3034e-04\n",
      "Epoch 90/150\n",
      "4746/4746 [==============================] - 14s 3ms/step - loss: 3.5787e-04 - mae: 5.6078e-04 - val_loss: 4.9346e-04 - val_mae: 7.6154e-04\n",
      "Epoch 91/150\n",
      "4746/4746 [==============================] - 13s 3ms/step - loss: 5.9648e-04 - mae: 8.0582e-04 - val_loss: 6.1255e-04 - val_mae: 7.5725e-04\n",
      "Epoch 92/150\n",
      "4746/4746 [==============================] - 14s 3ms/step - loss: 5.4622e-04 - mae: 7.7698e-04 - val_loss: 6.5996e-04 - val_mae: 9.1419e-04\n",
      "Epoch 93/150\n",
      "4746/4746 [==============================] - 14s 3ms/step - loss: 6.1365e-04 - mae: 9.0067e-04 - val_loss: 5.9432e-04 - val_mae: 8.0950e-04\n",
      "Epoch 94/150\n",
      "4746/4746 [==============================] - 14s 3ms/step - loss: 4.8730e-04 - mae: 7.1311e-04 - val_loss: 8.3101e-04 - val_mae: 0.0011\n",
      "Epoch 95/150\n",
      "4746/4746 [==============================] - 14s 3ms/step - loss: 6.6968e-04 - mae: 8.9618e-04 - val_loss: 6.4374e-04 - val_mae: 8.9368e-04\n",
      "Epoch 96/150\n",
      "4746/4746 [==============================] - 14s 3ms/step - loss: 5.2549e-04 - mae: 7.3772e-04 - val_loss: 6.4347e-04 - val_mae: 8.3743e-04\n",
      "Epoch 97/150\n",
      "4746/4746 [==============================] - 14s 3ms/step - loss: 6.6344e-04 - mae: 9.0564e-04 - val_loss: 5.9393e-04 - val_mae: 7.3963e-04\n",
      "Epoch 98/150\n",
      "4746/4746 [==============================] - 14s 3ms/step - loss: 4.9926e-04 - mae: 7.0782e-04 - val_loss: 5.3235e-04 - val_mae: 7.2488e-04\n",
      "Epoch 99/150\n",
      "4746/4746 [==============================] - 14s 3ms/step - loss: 4.1129e-04 - mae: 6.0066e-04 - val_loss: 5.3489e-04 - val_mae: 7.4603e-04\n",
      "Epoch 100/150\n",
      "4746/4746 [==============================] - 14s 3ms/step - loss: 3.6311e-04 - mae: 5.5821e-04 - val_loss: 4.6364e-04 - val_mae: 6.4113e-04\n",
      "Epoch 101/150\n",
      "4746/4746 [==============================] - 14s 3ms/step - loss: 4.8676e-04 - mae: 6.8739e-04 - val_loss: 9.9661e-04 - val_mae: 0.0012\n",
      "Epoch 102/150\n",
      "4746/4746 [==============================] - 14s 3ms/step - loss: 5.0977e-04 - mae: 7.0259e-04 - val_loss: 7.7458e-04 - val_mae: 9.5599e-04\n",
      "Epoch 103/150\n",
      "4746/4746 [==============================] - 13s 3ms/step - loss: 4.2356e-04 - mae: 6.0971e-04 - val_loss: 5.5662e-04 - val_mae: 7.5891e-04\n",
      "Epoch 104/150\n",
      "4746/4746 [==============================] - 14s 3ms/step - loss: 4.0484e-04 - mae: 5.7177e-04 - val_loss: 5.3381e-04 - val_mae: 6.9061e-04\n",
      "Epoch 105/150\n",
      "4746/4746 [==============================] - 14s 3ms/step - loss: 4.5350e-04 - mae: 6.8690e-04 - val_loss: 5.3674e-04 - val_mae: 6.3253e-04\n",
      "Epoch 106/150\n",
      "4746/4746 [==============================] - 14s 3ms/step - loss: 4.6589e-04 - mae: 6.7093e-04 - val_loss: 5.9499e-04 - val_mae: 7.5458e-04\n",
      "Epoch 107/150\n",
      "4746/4746 [==============================] - 14s 3ms/step - loss: 3.1017e-04 - mae: 4.8794e-04 - val_loss: 4.7662e-04 - val_mae: 6.4359e-04\n",
      "Epoch 108/150\n",
      "4746/4746 [==============================] - 14s 3ms/step - loss: 4.7781e-04 - mae: 6.7046e-04 - val_loss: 5.6778e-04 - val_mae: 6.7188e-04\n",
      "Epoch 109/150\n",
      "4746/4746 [==============================] - 14s 3ms/step - loss: 6.1756e-04 - mae: 8.4273e-04 - val_loss: 5.3859e-04 - val_mae: 7.0970e-04\n",
      "Epoch 110/150\n",
      "4746/4746 [==============================] - 14s 3ms/step - loss: 5.3686e-04 - mae: 7.6593e-04 - val_loss: 5.8681e-04 - val_mae: 7.1184e-04\n",
      "Epoch 111/150\n",
      "4746/4746 [==============================] - 14s 3ms/step - loss: 3.4667e-04 - mae: 5.3260e-04 - val_loss: 6.5952e-04 - val_mae: 7.7149e-04\n",
      "Epoch 112/150\n",
      "4746/4746 [==============================] - 14s 3ms/step - loss: 4.9623e-04 - mae: 7.7561e-04 - val_loss: 7.2398e-04 - val_mae: 9.0740e-04\n",
      "Epoch 113/150\n",
      "4746/4746 [==============================] - 14s 3ms/step - loss: 3.3247e-04 - mae: 4.6378e-04 - val_loss: 5.7343e-04 - val_mae: 7.1871e-04\n",
      "Epoch 114/150\n",
      "4746/4746 [==============================] - 14s 3ms/step - loss: 3.4987e-04 - mae: 5.2151e-04 - val_loss: 6.2412e-04 - val_mae: 7.7200e-04\n",
      "Epoch 115/150\n",
      "4746/4746 [==============================] - 14s 3ms/step - loss: 5.4345e-04 - mae: 7.4180e-04 - val_loss: 4.5480e-04 - val_mae: 6.5501e-04\n",
      "Epoch 116/150\n",
      "4746/4746 [==============================] - 14s 3ms/step - loss: 3.6804e-04 - mae: 5.2746e-04 - val_loss: 6.5767e-04 - val_mae: 8.0984e-04\n",
      "Epoch 117/150\n",
      "4746/4746 [==============================] - 14s 3ms/step - loss: 5.9536e-04 - mae: 8.1755e-04 - val_loss: 6.5989e-04 - val_mae: 8.3727e-04\n",
      "Epoch 118/150\n",
      "4746/4746 [==============================] - 14s 3ms/step - loss: 5.1674e-04 - mae: 7.2051e-04 - val_loss: 6.8920e-04 - val_mae: 7.6804e-04\n",
      "Epoch 119/150\n",
      "4746/4746 [==============================] - 14s 3ms/step - loss: 4.6639e-04 - mae: 6.3242e-04 - val_loss: 5.8940e-04 - val_mae: 7.1101e-04\n",
      "Epoch 120/150\n",
      "4746/4746 [==============================] - 14s 3ms/step - loss: 4.3000e-04 - mae: 5.8714e-04 - val_loss: 4.8722e-04 - val_mae: 5.8060e-04\n",
      "Epoch 121/150\n",
      "4746/4746 [==============================] - 14s 3ms/step - loss: 2.6660e-04 - mae: 3.7311e-04 - val_loss: 2.4027e-04 - val_mae: 3.6795e-04\n",
      "Epoch 122/150\n",
      "4746/4746 [==============================] - 15s 3ms/step - loss: 4.9904e-04 - mae: 6.2928e-04 - val_loss: 4.3296e-04 - val_mae: 5.9562e-04\n",
      "Epoch 123/150\n",
      "4746/4746 [==============================] - 15s 3ms/step - loss: 5.0781e-04 - mae: 6.7447e-04 - val_loss: 4.5262e-04 - val_mae: 5.9272e-04\n",
      "Epoch 124/150\n",
      "4746/4746 [==============================] - 16s 3ms/step - loss: 3.5370e-04 - mae: 5.2985e-04 - val_loss: 5.0104e-04 - val_mae: 6.2791e-04\n",
      "Epoch 125/150\n",
      "4746/4746 [==============================] - 15s 3ms/step - loss: 2.7811e-04 - mae: 4.3681e-04 - val_loss: 3.8383e-04 - val_mae: 5.4002e-04\n",
      "Epoch 126/150\n",
      "4746/4746 [==============================] - 16s 3ms/step - loss: 4.3498e-04 - mae: 5.9827e-04 - val_loss: 5.9874e-04 - val_mae: 7.3551e-04\n",
      "Epoch 127/150\n",
      "4746/4746 [==============================] - 14s 3ms/step - loss: 5.8483e-04 - mae: 7.9794e-04 - val_loss: 3.2957e-04 - val_mae: 4.4902e-04\n",
      "Epoch 128/150\n",
      "4746/4746 [==============================] - 14s 3ms/step - loss: 5.2281e-04 - mae: 7.2713e-04 - val_loss: 5.2779e-04 - val_mae: 7.1201e-04\n",
      "Epoch 129/150\n",
      "4746/4746 [==============================] - 14s 3ms/step - loss: 5.0322e-04 - mae: 7.2856e-04 - val_loss: 4.2498e-04 - val_mae: 5.8703e-04\n",
      "Epoch 130/150\n",
      "4746/4746 [==============================] - 14s 3ms/step - loss: 3.9720e-04 - mae: 5.6986e-04 - val_loss: 4.9322e-04 - val_mae: 6.8195e-04\n",
      "Epoch 131/150\n",
      "4746/4746 [==============================] - 14s 3ms/step - loss: 3.9085e-04 - mae: 5.5791e-04 - val_loss: 7.7388e-04 - val_mae: 9.4681e-04\n",
      "Epoch 132/150\n",
      "4746/4746 [==============================] - 14s 3ms/step - loss: 4.6047e-04 - mae: 6.2726e-04 - val_loss: 4.6056e-04 - val_mae: 6.1152e-04\n",
      "Epoch 133/150\n",
      "4746/4746 [==============================] - 14s 3ms/step - loss: 2.8928e-04 - mae: 4.3241e-04 - val_loss: 3.9574e-04 - val_mae: 5.4554e-04\n",
      "Epoch 134/150\n",
      "4746/4746 [==============================] - 14s 3ms/step - loss: 4.7028e-04 - mae: 6.3870e-04 - val_loss: 4.5809e-04 - val_mae: 6.4512e-04\n",
      "Epoch 135/150\n",
      "4746/4746 [==============================] - 15s 3ms/step - loss: 5.2375e-04 - mae: 7.0951e-04 - val_loss: 8.1233e-04 - val_mae: 9.8926e-04\n",
      "Epoch 136/150\n",
      "4746/4746 [==============================] - 14s 3ms/step - loss: 4.6191e-04 - mae: 6.2683e-04 - val_loss: 7.8443e-04 - val_mae: 9.2537e-04\n",
      "Epoch 137/150\n",
      "4746/4746 [==============================] - 14s 3ms/step - loss: 4.5679e-04 - mae: 6.1573e-04 - val_loss: 0.0010 - val_mae: 0.0013\n",
      "Epoch 138/150\n",
      "4746/4746 [==============================] - 15s 3ms/step - loss: 2.7037e-04 - mae: 4.2230e-04 - val_loss: 5.0126e-04 - val_mae: 6.7028e-04\n",
      "Epoch 139/150\n",
      "4746/4746 [==============================] - 15s 3ms/step - loss: 4.6155e-04 - mae: 6.2505e-04 - val_loss: 5.9492e-04 - val_mae: 6.7194e-04\n",
      "Epoch 140/150\n",
      "4746/4746 [==============================] - 14s 3ms/step - loss: 2.9063e-04 - mae: 4.4821e-04 - val_loss: 5.6215e-04 - val_mae: 7.0410e-04\n",
      "Epoch 141/150\n",
      "4746/4746 [==============================] - 14s 3ms/step - loss: 3.8395e-04 - mae: 5.6003e-04 - val_loss: 7.4019e-04 - val_mae: 9.1960e-04\n",
      "Epoch 142/150\n",
      "4746/4746 [==============================] - 14s 3ms/step - loss: 4.9543e-04 - mae: 6.8330e-04 - val_loss: 7.4272e-04 - val_mae: 8.9836e-04\n",
      "Epoch 143/150\n",
      "4746/4746 [==============================] - 14s 3ms/step - loss: 4.6189e-04 - mae: 5.9943e-04 - val_loss: 4.8274e-04 - val_mae: 6.2296e-04\n",
      "Epoch 144/150\n",
      "4746/4746 [==============================] - 14s 3ms/step - loss: 4.5943e-04 - mae: 6.0021e-04 - val_loss: 5.6945e-04 - val_mae: 6.8721e-04\n",
      "Epoch 145/150\n",
      "4746/4746 [==============================] - 14s 3ms/step - loss: 4.1587e-04 - mae: 6.2417e-04 - val_loss: 7.6024e-04 - val_mae: 9.3052e-04\n",
      "Epoch 146/150\n",
      "4746/4746 [==============================] - 14s 3ms/step - loss: 4.8232e-04 - mae: 6.5724e-04 - val_loss: 6.7001e-04 - val_mae: 7.8814e-04\n",
      "Epoch 147/150\n",
      "4746/4746 [==============================] - 14s 3ms/step - loss: 3.9452e-04 - mae: 5.1808e-04 - val_loss: 6.0289e-04 - val_mae: 7.8299e-04\n",
      "Epoch 148/150\n",
      "4746/4746 [==============================] - 14s 3ms/step - loss: 3.9670e-04 - mae: 4.9824e-04 - val_loss: 5.8922e-04 - val_mae: 7.2642e-04\n",
      "Epoch 149/150\n",
      "4746/4746 [==============================] - 14s 3ms/step - loss: 4.6986e-04 - mae: 6.1538e-04 - val_loss: 5.9798e-04 - val_mae: 7.8177e-04\n",
      "Epoch 150/150\n",
      "4746/4746 [==============================] - 14s 3ms/step - loss: 4.6879e-04 - mae: 6.1300e-04 - val_loss: 5.5353e-04 - val_mae: 6.5801e-04\n"
     ]
    }
   ],
   "source": [
    "model.compile(optimizer='rmsprop', loss='mse', metrics=['mae'])\n",
    "history = model.fit(inputs_train, outputs_train, epochs=150, batch_size=1, validation_data=(inputs_validate, outputs_validate))"
   ]
  },
  {
   "cell_type": "code",
   "execution_count": 6,
   "id": "8d10d097-0699-436e-bfaf-2027881fe565",
   "metadata": {},
   "outputs": [
    {
     "data": {
      "image/png": "[encoded data removed]",
      "text/plain": [
       "<Figure size 500x300 with 1 Axes>"
      ]
     },
     "metadata": {},
     "output_type": "display_data"
    },
    {
     "name": "stdout",
     "output_type": "stream",
     "text": [
      "[5.0, 3.0]\n"
     ]
    }
   ],
   "source": [
    "# increase the size of the graphs. The default size is (6,4).\n",
    "plt.rcParams[\"figure.figsize\"] = (5,3)\n",
    "\n",
    "# graph the loss, the model above is configure to use \"mean squared error\" as the loss function\n",
    "loss = history.history['loss']\n",
    "val_loss = history.history['val_loss']\n",
    "epochs = range(1, len(loss) + 1)\n",
    "plt.plot(epochs, loss, 'g.', label='Training loss')\n",
    "plt.plot(epochs, val_loss, 'b', label='Validation loss')\n",
    "plt.title('Training and validation loss')\n",
    "plt.xlabel('Epochs')\n",
    "plt.ylabel('Loss')\n",
    "plt.legend()\n",
    "plt.show()\n",
    "\n",
    "print(plt.rcParams[\"figure.figsize\"])"
   ]
  },
  {
   "cell_type": "code",
   "execution_count": 7,
   "id": "a293c6f9-526f-4686-a511-88340c259620",
   "metadata": {},
   "outputs": [
    {
     "data": {
      "image/png": "[encoded data removed]",
      "text/plain": [
       "<Figure size 500x300 with 1 Axes>"
      ]
     },
     "metadata": {},
     "output_type": "display_data"
    }
   ],
   "source": [
    "# graph the loss again skipping a bit of the start\n",
    "SKIP = 50\n",
    "plt.plot(epochs[SKIP:], loss[SKIP:], 'g.', label='Training loss')\n",
    "plt.plot(epochs[SKIP:], val_loss[SKIP:], 'b.', label='Validation loss')\n",
    "plt.title('Training and validation loss')\n",
    "plt.xlabel('Epochs')\n",
    "plt.ylabel('Loss')\n",
    "plt.legend()\n",
    "plt.show()"
   ]
  },
  {
   "cell_type": "code",
   "execution_count": 8,
   "id": "31f65474-4a08-441a-8b3d-f00d4a5f0354",
   "metadata": {},
   "outputs": [
    {
     "data": {
      "image/png": "[encoded data removed]",
      "text/plain": [
       "<Figure size 500x300 with 1 Axes>"
      ]
     },
     "metadata": {},
     "output_type": "display_data"
    }
   ],
   "source": [
    "# graph of mean absolute error\n",
    "mae = history.history['mae']\n",
    "val_mae = history.history['val_mae']\n",
    "plt.plot(epochs[SKIP:], mae[SKIP:], 'g.', label='Training MAE')\n",
    "plt.plot(epochs[SKIP:], val_mae[SKIP:], 'b.', label='Validation MAE')\n",
    "plt.title('Training and validation mean absolute error')\n",
    "plt.xlabel('Epochs')\n",
    "plt.ylabel('MAE')\n",
    "plt.legend()\n",
    "plt.show()\n"
   ]
  },
  {
   "cell_type": "code",
   "execution_count": 9,
   "id": "6684e7f5",
   "metadata": {},
   "outputs": [
    {
     "name": "stdout",
     "output_type": "stream",
     "text": [
      "input shape (1582, 150, 9)\n",
      "<class 'numpy.ndarray'>\n"
     ]
    }
   ],
   "source": [
    "print(\"input shape\" , inputs_test.shape)\n",
    "print(type(inputs_test))\n",
    "# print (len(data1))\n",
    "# inputs_test = np.concatenate((inputs_test, [np.array(data1)]), axis=0)\n",
    "# print(\"input shape\" , inputs_test.shape)"
   ]
  },
  {
   "cell_type": "code",
   "execution_count": 10,
   "id": "c2a2b3b9",
   "metadata": {},
   "outputs": [],
   "source": [
    "# t1 = pd.read_csv(\"processed_data/a_1.dat\")\n",
    "# print(t1)\n",
    "# single_sample = np.array(t1.values.ravel())\n",
    "# single_sample1 = (t1.melt().value.tolist())\n",
    "# print(type(single_sample))\n",
    "# prediction = model.predict(np.expand_dims(single_sample, axis=0))\n",
    "# prediction1 = model.predict(np.expand_dims(single_sample1, axis=0))\n",
    "\n",
    "# formatted_numbers = [\"{:.2f}\".format(number) for number in prediction[0]]\n",
    "\n",
    "# print(\"Formatted Numbers:\", formatted_numbers)\n",
    "# print(\"Prediction:\", prediction)\n",
    "# prediction = model.predict([t1])\n",
    "# print(\"predictions =\\n\", np.round(prediction, decimals=3))\n",
    "# print(single_sample)\n",
    "# print(single_sample1)"
   ]
  },
  {
   "cell_type": "code",
   "execution_count": 11,
   "id": "1fdde0c0",
   "metadata": {},
   "outputs": [],
   "source": [
    "# t1 = pd.read_csv(\"processed_data/a_1.dat\")\n",
    "# [np.array(t1.values.ravel())]\n",
    "\n",
    "# inputs_test = np.concatenate((inputs_test, [np.array(t1.values.ravel())]), axis=0)\n",
    "# # "
   ]
  },
  {
   "cell_type": "code",
   "execution_count": 12,
   "id": "b0b548b0-55f8-495c-ad78-4bd4a459f5ab",
   "metadata": {},
   "outputs": [
    {
     "name": "stdout",
     "output_type": "stream",
     "text": [
      "50/50 [==============================] - 0s 4ms/step\n",
      "pred shape (1582, 26)\n",
      "predictions =\n",
      " [[0. 0. 0. ... 0. 0. 0.]\n",
      " [0. 0. 0. ... 0. 0. 0.]\n",
      " [0. 0. 0. ... 0. 0. 0.]\n",
      " ...\n",
      " [0. 0. 0. ... 0. 0. 0.]\n",
      " [0. 0. 0. ... 0. 0. 0.]\n",
      " [0. 0. 0. ... 0. 0. 0.]]\n",
      "actual =\n",
      " [[0. 0. 0. ... 0. 0. 0.]\n",
      " [0. 0. 0. ... 0. 0. 0.]\n",
      " [0. 0. 0. ... 0. 0. 0.]\n",
      " ...\n",
      " [0. 0. 0. ... 0. 0. 0.]\n",
      " [0. 0. 0. ... 0. 0. 0.]\n",
      " [0. 0. 0. ... 0. 0. 0.]]\n",
      "[[0. 0. 0. ... 0. 0. 0.]\n",
      " [0. 0. 0. ... 0. 0. 0.]\n",
      " [0. 0. 0. ... 0. 0. 0.]\n",
      " ...\n",
      " [0. 0. 0. ... 0. 0. 0.]\n",
      " [0. 0. 0. ... 0. 0. 0.]\n",
      " [0. 0. 0. ... 0. 0. 0.]]\n"
     ]
    }
   ],
   "source": [
    "# use the model to predict the test inputs\n",
    "predictions = model.predict(inputs_test)\n",
    "print(\"pred shape\" , predictions.shape)\n",
    "# predictions = model.predict(inputs_test[0].reshape(1,1248))\n",
    "# print(predictions[0])\n",
    "# print(outputs_test[0])\n",
    "# print (inputs_test[0])\n",
    "\n",
    "# pd.DataFrame(inputs_test[0]).to_csv(\"test1.h\", sep=',', encoding='utf-8', index=False, header=False)\n",
    "# !echo \"const unsigned char tt[] = {\" > ./tt.h\n",
    "# !cat \"test1.csv\" | xxd -i      >> ./tt.h\n",
    "# !echo \"};\"                              >> ./tt.h\n",
    "\n",
    "# print the predictions and the expected ouputs\n",
    "print(\"predictions =\\n\", np.round(predictions, decimals=3))\n",
    "\n",
    "print(\"actual =\\n\", outputs_test)\n",
    "a = np.round(predictions - outputs_test, decimals=0)\n",
    "print(a)\n",
    "# Plot the predictions along with to the test data\n",
    "# plt.clf()\n",
    "# plt.title('Training data predicted vs actual values')\n",
    "# plt.plot( outputs_test, 'b.', label='Actual')\n",
    "# plt.plot( predictions, 'r.', label='Predicted')\n",
    "# plt.show()\n"
   ]
  },
  {
   "cell_type": "code",
   "execution_count": 13,
   "id": "502fd9c0",
   "metadata": {},
   "outputs": [
    {
     "name": "stdout",
     "output_type": "stream",
     "text": [
      "float64\n",
      "float32\n"
     ]
    }
   ],
   "source": [
    "print(outputs_test[:, 0].dtype)\n",
    "print(predictions[:, 0].dtype)"
   ]
  },
  {
   "cell_type": "code",
   "execution_count": 14,
   "id": "4e7bbaab",
   "metadata": {},
   "outputs": [
    {
     "name": "stdout",
     "output_type": "stream",
     "text": [
      "tests by letter:  [67 54 54 57 71 70 60 66 61 57 67 56 69 61 72 55 65 54 63 67 54 59 54 58\n",
      " 56 55]\n",
      "wrong predict by letter:  [0 3 0 0 0 1 2 2 2 1 0 2 3 1 0 1 1 2 1 2 0 2 0 1 1 0]\n",
      "wrong rate:  [0.   0.06 0.   0.   0.   0.01 0.03 0.03 0.03 0.02 0.   0.04 0.04 0.02\n",
      " 0.   0.02 0.02 0.04 0.02 0.03 0.   0.03 0.   0.02 0.02 0.  ]\n"
     ]
    }
   ],
   "source": [
    "pre = (predictions + 0.5).astype(int)\n",
    "# pre\n",
    "a = pre-outputs_test\n",
    "tests_by_letter = outputs_test.astype(bool).sum(axis=0)\n",
    "print(\"tests by letter: \", tests_by_letter)\n",
    "wrong_predict_by_letter = a.astype(bool).sum(axis=0)\n",
    "print(\"wrong predict by letter: \", wrong_predict_by_letter)\n",
    "print(\"wrong rate: \", np.round(wrong_predict_by_letter/tests_by_letter, decimals=2))"
   ]
  },
  {
   "cell_type": "code",
   "execution_count": 15,
   "id": "391c2cab",
   "metadata": {},
   "outputs": [],
   "source": [
    "from sklearn.metrics import accuracy_score, precision_score, recall_score, f1_score, confusion_matrix\n",
    "# accuracy = accuracy_score(outputs_test, predictions)\n",
    "# precision = precision_score(outputs_test, predictions)\n",
    "# recall = recall_score(outputs_test, predictions)\n",
    "# f1 = f1_score(outputs_test, predictions)\n",
    "# conf_matrix = confusion_matrix(outputs_test, predictions)\n",
    "\n",
    "# print(f\"Accuracy: {accuracy}\")\n",
    "# print(f\"Precision: {precision}\")\n",
    "# print(f\"Recall: {recall}\")\n",
    "# print(f\"F1-Score: {f1}\")\n",
    "# print(f\"Confusion Matrix:\\n{conf_matrix}\")\n",
    "# Initialize an array to store accuracy for each class\n",
    "\n",
    "# class_accuracies = []\n",
    "\n",
    "# # Iterate over each class (assuming axis 1 represents classes)\n",
    "# for class_index in range(26):\n",
    "#     true_labels_class = outputs_test[:, class_index]\n",
    "#     predicted_labels_class = pre[:, class_index]\n",
    "#     accuracy = accuracy_score(true_labels_class, predicted_labels_class)\n",
    "#     class_accuracies.append(accuracy)\n",
    "\n",
    "# # Calculate micro-average accuracy (overall accuracy)\n",
    "# micro_average_accuracy = accuracy_score(outputs_test, predictions)\n",
    "\n",
    "# # Calculate macro-average accuracy (average accuracy across classes)\n",
    "# macro_average_accuracy = sum(class_accuracies) / len(class_accuracies)\n",
    "\n",
    "# # Print individual class accuracies and the macro/micro averages\n",
    "# for class_index, accuracy in enumerate(class_accuracies):\n",
    "#     print(f\"Class {class_index}: Accuracy = {accuracy}\")\n",
    "\n",
    "# print(f\"Micro-average accuracy: {micro_average_accuracy}\")\n",
    "# print(f\"Macro-average accuracy: {macro_average_accuracy}\")\n",
    "# In the code above:\n",
    "\n",
    "# We iterate over each class, treating it as a binary classification problem by selecting the true labels and predicted labels for that class.\n",
    "# We calculate the accuracy for each class separately and store it in the class_accuracies list.\n",
    "# We compute the micro-average accuracy, which is the overall accuracy across all samples and classes.\n",
    "# We compute the macro-average accuracy, which is the average accuracy across all classes.\n",
    "# This approach allows you to evaluate the performance of your multi-class classification model for each individual class and provides overall accuracy metrics as well.\n",
    "\n",
    "\n",
    "\n",
    "\n",
    "\n"
   ]
  },
  {
   "cell_type": "code",
   "execution_count": 16,
   "id": "84406d74",
   "metadata": {},
   "outputs": [
    {
     "name": "stdout",
     "output_type": "stream",
     "text": [
      "r2= 0.9828473250013835\n"
     ]
    }
   ],
   "source": [
    "# import matplotlib.pyplot as plt\n",
    "\n",
    "# plt.scatter(outputs_test, predictions)\n",
    "# plt.xlabel(\"True Values\")\n",
    "# plt.ylabel(\"Predictions\")\n",
    "# plt.show()\n",
    "\n",
    "from sklearn.metrics import r2_score\n",
    "\n",
    "\n",
    "r2 = r2_score(outputs_test, predictions)\n",
    "print(\"r2=\", r2)"
   ]
  },
  {
   "cell_type": "code",
   "execution_count": 17,
   "id": "666497c8",
   "metadata": {},
   "outputs": [
    {
     "data": {
      "text/plain": [
       "array([0., 0., 0., 0., 0., 0., 0., 0., 0., 0., 0., 0., 0., 0., 0., 0., 0.,\n",
       "       0., 0., 0., 0., 0., 1., 0., 0., 0.])"
      ]
     },
     "execution_count": 17,
     "metadata": {},
     "output_type": "execute_result"
    }
   ],
   "source": [
    "outputs_test[0]"
   ]
  },
  {
   "cell_type": "code",
   "execution_count": 18,
   "id": "1052b658",
   "metadata": {},
   "outputs": [
    {
     "data": {
      "text/plain": [
       "array([0, 0, 0, 0, 0, 0, 0, 0, 0, 0, 0, 0, 0, 0, 0, 0, 0, 0, 0, 0, 0, 0,\n",
       "       1, 0, 0, 0])"
      ]
     },
     "execution_count": 18,
     "metadata": {},
     "output_type": "execute_result"
    }
   ],
   "source": [
    "(predictions[0]+0.5).astype(int)"
   ]
  },
  {
   "cell_type": "code",
   "execution_count": 19,
   "id": "710498bd",
   "metadata": {},
   "outputs": [],
   "source": [
    "# tf.saved_model.save(model, 'my_saved_model')"
   ]
  },
  {
   "cell_type": "code",
   "execution_count": 20,
   "id": "31b95bed-c0d8-4dbd-a273-d65a02c98a28",
   "metadata": {},
   "outputs": [
    {
     "name": "stdout",
     "output_type": "stream",
     "text": [
      "INFO:tensorflow:Assets written to: /var/folders/37/t8fhr8j953xfnbs16xcvwq3w0000gn/T/tmprr1v69d8/assets\n"
     ]
    },
    {
     "name": "stderr",
     "output_type": "stream",
     "text": [
      "INFO:tensorflow:Assets written to: /var/folders/37/t8fhr8j953xfnbs16xcvwq3w0000gn/T/tmprr1v69d8/assets\n"
     ]
    },
    {
     "name": "stdout",
     "output_type": "stream",
     "text": [
      "Model is 341864 bytes\n"
     ]
    },
    {
     "name": "stderr",
     "output_type": "stream",
     "text": [
      "2023-11-12 23:05:37.415662: W tensorflow/compiler/mlir/lite/python/tf_tfl_flatbuffer_helpers.cc:364] Ignored output_format.\n",
      "2023-11-12 23:05:37.415681: W tensorflow/compiler/mlir/lite/python/tf_tfl_flatbuffer_helpers.cc:367] Ignored drop_control_dependency.\n",
      "2023-11-12 23:05:37.416631: I tensorflow/cc/saved_model/reader.cc:45] Reading SavedModel from: /var/folders/37/t8fhr8j953xfnbs16xcvwq3w0000gn/T/tmprr1v69d8\n",
      "2023-11-12 23:05:37.419052: I tensorflow/cc/saved_model/reader.cc:91] Reading meta graph with tags { serve }\n",
      "2023-11-12 23:05:37.419069: I tensorflow/cc/saved_model/reader.cc:132] Reading SavedModel debug info (if present) from: /var/folders/37/t8fhr8j953xfnbs16xcvwq3w0000gn/T/tmprr1v69d8\n",
      "2023-11-12 23:05:37.425030: I tensorflow/compiler/mlir/mlir_graph_optimization_pass.cc:375] MLIR V1 optimization pass is not enabled\n",
      "2023-11-12 23:05:37.427106: I tensorflow/cc/saved_model/loader.cc:231] Restoring SavedModel bundle.\n",
      "2023-11-12 23:05:37.497324: I tensorflow/cc/saved_model/loader.cc:215] Running initialization op on SavedModel bundle at path: /var/folders/37/t8fhr8j953xfnbs16xcvwq3w0000gn/T/tmprr1v69d8\n",
      "2023-11-12 23:05:37.520317: I tensorflow/cc/saved_model/loader.cc:314] SavedModel load for tags { serve }; Status: success: OK. Took 103688 microseconds.\n",
      "2023-11-12 23:05:37.544452: I tensorflow/compiler/mlir/tensorflow/utils/dump_mlir_util.cc:255] disabling MLIR crash reproducer, set env var `MLIR_CRASH_REPRODUCER_DIRECTORY` to enable.\n"
     ]
    }
   ],
   "source": [
    "# Convert the model to the TensorFlow Lite format without quantization\n",
    "converter = tf.lite.TFLiteConverter.from_keras_model(model)\n",
    "# converter.optimizations = [tf.lite.Optimize.OPTIMIZE_FOR_SIZE]\n",
    "tflite_model = converter.convert()\n",
    "\n",
    "# Save the model to disk\n",
    "open(\"gesture_model.tflite\", \"wb\").write(tflite_model)\n",
    "  \n",
    "import os\n",
    "basic_model_size = os.path.getsize(\"gesture_model.tflite\")\n",
    "print(\"Model is %d bytes\" % basic_model_size)\n",
    "  \n",
    "  "
   ]
  },
  {
   "cell_type": "code",
   "execution_count": 21,
   "id": "fdbed560",
   "metadata": {},
   "outputs": [],
   "source": [
    "# Create a TensorFlow Lite interpreter for the converted model\n",
    "# interpreter = tf.lite.Interpreter(model_content=tflite_model)\n",
    "# interpreter.allocate_tensors()\n",
    "\n",
    "# # Get the details of the TensorFlow Lite model\n",
    "# ops_details = interpreter.get_tensor_details()\n",
    "\n",
    "# # Print the details of each operator in the TensorFlow Lite model\n",
    "# for op in ops_details:\n",
    "#     print(\"Operator Name:\", op['name'])\n",
    "#     print(\"Operator Index:\", op['index'])\n",
    "#     print(\"Operator Shape:\", op['shape'])\n",
    "#     print(\"Operator Type:\", op['dtype'])\n",
    "#     print()"
   ]
  },
  {
   "cell_type": "code",
   "execution_count": 22,
   "id": "06b006ac-b63a-4e74-8dce-297e7bd643f0",
   "metadata": {},
   "outputs": [
    {
     "name": "stdout",
     "output_type": "stream",
     "text": [
      "Header file, model.h, is 2,108,196 bytes.\n",
      "\n",
      "Open the side panel (refresh if needed). Double click model.h to download the file.\n"
     ]
    }
   ],
   "source": [
    "!echo \"const unsigned char model[] = {\" > ./content/model.h\n",
    "!cat gesture_model.tflite | xxd -i      >> ./content/model.h\n",
    "!echo \"};\"                              >> ./content/model.h\n",
    "\n",
    "import os\n",
    "model_h_size = os.path.getsize(\"./content/model.h\")\n",
    "print(f\"Header file, model.h, is {model_h_size:,} bytes.\")\n",
    "print(\"\\nOpen the side panel (refresh if needed). Double click model.h to download the file.\")"
   ]
  },
  {
   "cell_type": "code",
   "execution_count": 23,
   "metadata": {},
   "outputs": [],
   "source": [
    "from sklearn.metrics import f1_score\n",
    "\n",
    "# Assuming 'y_true' contains the true labels and 'y_pred' contains the predicted labels\n",
    "# f1 = f1_score(outputs_test, pre)"
   ]
  },
  {
   "cell_type": "code",
   "execution_count": 24,
   "id": "72fa2baf",
   "metadata": {},
   "outputs": [],
   "source": [
    "\n",
    "\n",
    "# model.compile(optimizer='adam',\n",
    "#               loss=tf.keras.losses.SparseCategoricalCrossentropy(from_logits=True),\n",
    "#               metrics=['accuracy'])"
   ]
  }
 ],
 "metadata": {
  "kernelspec": {
   "display_name": "Python 3 (ipykernel)",
   "language": "python",
   "name": "python3"
  },
  "language_info": {
   "codemirror_mode": {
    "name": "ipython",
    "version": 3
   },
   "file_extension": ".py",
   "mimetype": "text/x-python",
   "name": "python",
   "nbconvert_exporter": "python",
   "pygments_lexer": "ipython3",
   "version": "3.10.0"
  }
 },
 "nbformat": 4,
 "nbformat_minor": 5
}
