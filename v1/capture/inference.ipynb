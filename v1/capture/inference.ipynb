{
 "cells": [
  {
   "cell_type": "code",
   "execution_count": null,
   "metadata": {},
   "outputs": [],
   "source": [
    "import tensorflow as tf\n",
    "import numpy as np\n",
    "import pandas as pd\n",
    "import matplotlib.pyplot as plt\n",
    "import glob\n",
    "import random\n",
    "\n",
    "# Load the TFLite model\n",
    "interpreter = tf.lite.Interpreter(model_path='gesture_model.tflite')\n",
    "\n",
    "# Allocate memory for the model\n",
    "interpreter.allocate_tensors()\n",
    "\n",
    "# Get input and output tensors\n",
    "input_details = interpreter.get_input_details()\n",
    "output_details = interpreter.get_output_details()\n",
    "\n"
   ]
  },
  {
   "cell_type": "code",
   "execution_count": null,
   "metadata": {},
   "outputs": [],
   "source": [
    "input_details"
   ]
  },
  {
   "cell_type": "code",
   "execution_count": null,
   "metadata": {},
   "outputs": [],
   "source": [
    "t1 = pd.read_csv(\"processed_data/a_10.dat\")\n",
    "input_data = np.array(t1.values.ravel(), dtype=np.float32)\n",
    "# Prepare input data for prediction (replace this with your data)\n",
    "# input_data = ...  # Prepare your input data as a NumPy array\n",
    "input_shape = input_details[0]['shape']  # Get the expected input shape\n",
    "input_data = input_data.reshape(input_shape)\n",
    "# Set the input tensor\n",
    "interpreter.set_tensor(input_details[0]['index'], input_data)\n",
    "\n",
    "# Run inference\n",
    "interpreter.invoke()\n",
    "\n",
    "# Get the output tensor\n",
    "output_data = interpreter.get_tensor(output_details[0]['index'])\n",
    "\n",
    "# The output_data now contains the model's predictions\n",
    "# print(\"Predictions:\", output_data)\n",
    "# Format and print the output_data with 2 decimal places\n",
    "# Round the values to 2 decimal places and convert to strings\n",
    "formatted_output_data = np.round(output_data, 2).astype(str)\n",
    "\n",
    "print(\"Predictions with 2 decimal places:\", formatted_output_data)"
   ]
  },
  {
   "cell_type": "code",
   "execution_count": null,
   "metadata": {},
   "outputs": [],
   "source": [
    "file_path = \"processed_data/*\"\n",
    "\n",
    "datafiles = glob.glob(file_path)\n",
    "# datafiles.sort()\n",
    "print(\"total files\", len(datafiles))\n",
    "GESTURES = \"abcdefghijklmnopqrstuvwxyz\"\n",
    "count_correct = 0\n",
    "count_incorrect = 0\n",
    "\n",
    "for datafile in datafiles:\n",
    "\n",
    "    t1 = pd.read_csv(datafile)\n",
    "    input_data = np.array(t1.values.ravel(), dtype=np.float32)\n",
    "    # Prepare input data for prediction (replace this with your data)\n",
    "    # input_data = ...  # Prepare your input data as a NumPy array\n",
    "    input_shape = input_details[0]['shape']  # Get the expected input shape\n",
    "    input_data = input_data.reshape(input_shape)\n",
    "    # Set the input tensor\n",
    "    interpreter.set_tensor(input_details[0]['index'], input_data)\n",
    "\n",
    "    # Run inference\n",
    "    interpreter.invoke()\n",
    "\n",
    "    # Get the output tensor\n",
    "    output_data = interpreter.get_tensor(output_details[0]['index'])\n",
    "\n",
    "    # The output_data now contains the model's predictions\n",
    "    # print(\"Predictions:\", output_data)\n",
    "    # Format and print the output_data with 2 decimal places\n",
    "    # Round the values to 2 decimal places and convert to strings\n",
    "    formatted_output_data = np.round(output_data, 2).astype(str)\n",
    "\n",
    "    # print(\"Predictions with 2 decimal places:\", formatted_output_data)\n",
    "    ch = '.'\n",
    "    for i in range(len(GESTURES)) :\n",
    "        if output_data[0][i] > 0.5:\n",
    "            ch = GESTURES[i]\n",
    "    if ch == datafile[15]:\n",
    "        # print (\"correct\")\n",
    "        count_correct += 1\n",
    "        pass\n",
    "    else:\n",
    "        count_incorrect += 1\n",
    "        print (\"incorrect \",  datafile[15] , \" => \", ch)\n",
    "\n",
    "print(\"total incorrect \", count_incorrect, \", correct \", count_correct)    "
   ]
  }
 ],
 "metadata": {
  "kernelspec": {
   "display_name": "Python 3",
   "language": "python",
   "name": "python3"
  },
  "language_info": {
   "codemirror_mode": {
    "name": "ipython",
    "version": 3
   },
   "file_extension": ".py",
   "mimetype": "text/x-python",
   "name": "python",
   "nbconvert_exporter": "python",
   "pygments_lexer": "ipython3",
   "version": "3.10.0"
  },
  "orig_nbformat": 4
 },
 "nbformat": 4,
 "nbformat_minor": 2
}
