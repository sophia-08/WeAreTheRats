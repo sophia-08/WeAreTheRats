{
 "cells": [
  {
   "cell_type": "code",
   "execution_count": 15,
   "metadata": {},
   "outputs": [],
   "source": [
    "import tensorflow as tf\n",
    "import numpy as np\n",
    "import pandas as pd\n",
    "\n",
    "import tensorflow as tf\n",
    "\n",
    "# Load the TFLite model\n",
    "interpreter = tf.lite.Interpreter(model_path='gesture_model.tflite')\n",
    "\n",
    "# Allocate memory for the model\n",
    "interpreter.allocate_tensors()\n",
    "\n",
    "# Get input and output tensors\n",
    "input_details = interpreter.get_input_details()\n",
    "output_details = interpreter.get_output_details()\n",
    "\n"
   ]
  },
  {
   "cell_type": "code",
   "execution_count": 16,
   "metadata": {},
   "outputs": [
    {
     "data": {
      "text/plain": [
       "[{'name': 'serving_default_dense_input:0',\n",
       "  'index': 0,\n",
       "  'shape': array([  1, 720], dtype=int32),\n",
       "  'shape_signature': array([ -1, 720], dtype=int32),\n",
       "  'dtype': numpy.float32,\n",
       "  'quantization': (0.0, 0),\n",
       "  'quantization_parameters': {'scales': array([], dtype=float32),\n",
       "   'zero_points': array([], dtype=int32),\n",
       "   'quantized_dimension': 0},\n",
       "  'sparsity_parameters': {}}]"
      ]
     },
     "execution_count": 16,
     "metadata": {},
     "output_type": "execute_result"
    }
   ],
   "source": [
    "input_details"
   ]
  },
  {
   "cell_type": "code",
   "execution_count": 17,
   "metadata": {},
   "outputs": [
    {
     "name": "stdout",
     "output_type": "stream",
     "text": [
      "Predictions with 2 decimal places: [['0.0' '0.0' '1.0' '0.0' '0.0' '0.0' '0.0']]\n"
     ]
    }
   ],
   "source": [
    "t1 = pd.read_csv(\"processed_data/c_10.dat\")\n",
    "input_data = np.array(t1.values.ravel(), dtype=np.float32)\n",
    "# Prepare input data for prediction (replace this with your data)\n",
    "# input_data = ...  # Prepare your input data as a NumPy array\n",
    "input_shape = input_details[0]['shape']  # Get the expected input shape\n",
    "input_data = input_data.reshape(input_shape)\n",
    "# Set the input tensor\n",
    "interpreter.set_tensor(input_details[0]['index'], input_data)\n",
    "\n",
    "# Run inference\n",
    "interpreter.invoke()\n",
    "\n",
    "# Get the output tensor\n",
    "output_data = interpreter.get_tensor(output_details[0]['index'])\n",
    "\n",
    "# The output_data now contains the model's predictions\n",
    "# print(\"Predictions:\", output_data)\n",
    "# Format and print the output_data with 2 decimal places\n",
    "# Round the values to 2 decimal places and convert to strings\n",
    "formatted_output_data = np.round(output_data, 2).astype(str)\n",
    "\n",
    "print(\"Predictions with 2 decimal places:\", formatted_output_data)"
   ]
  }
 ],
 "metadata": {
  "kernelspec": {
   "display_name": "Python 3",
   "language": "python",
   "name": "python3"
  },
  "language_info": {
   "codemirror_mode": {
    "name": "ipython",
    "version": 3
   },
   "file_extension": ".py",
   "mimetype": "text/x-python",
   "name": "python",
   "nbconvert_exporter": "python",
   "pygments_lexer": "ipython3",
   "version": "3.10.0"
  },
  "orig_nbformat": 4
 },
 "nbformat": 4,
 "nbformat_minor": 2
}
